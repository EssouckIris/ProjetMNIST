{
 "cells": [
  {
   "cell_type": "code",
   "execution_count": 4,
   "id": "f7297bf5",
   "metadata": {},
   "outputs": [
    {
     "name": "stdout",
     "output_type": "stream",
     "text": [
      "Collecting mlflow\n",
      "  Using cached mlflow-3.1.4-py3-none-any.whl (24.7 MB)\n",
      "Requirement already satisfied: matplotlib<4 in c:\\users\\admin\\anaconda3\\lib\\site-packages (from mlflow) (3.5.2)\n",
      "Requirement already satisfied: pandas<3 in c:\\users\\admin\\anaconda3\\lib\\site-packages (from mlflow) (1.4.4)\n",
      "Requirement already satisfied: sqlalchemy<3,>=1.4.0 in c:\\users\\admin\\anaconda3\\lib\\site-packages (from mlflow) (1.4.39)\n",
      "Requirement already satisfied: scipy<2 in c:\\users\\admin\\anaconda3\\lib\\site-packages (from mlflow) (1.13.1)\n",
      "Requirement already satisfied: numpy<3 in c:\\users\\admin\\anaconda3\\lib\\site-packages (from mlflow) (1.26.4)\n",
      "Collecting graphene<4\n",
      "  Using cached graphene-3.4.3-py2.py3-none-any.whl (114 kB)\n",
      "Collecting waitress<4\n",
      "  Using cached waitress-3.0.2-py3-none-any.whl (56 kB)\n",
      "Requirement already satisfied: scikit-learn<2 in c:\\users\\admin\\anaconda3\\lib\\site-packages (from mlflow) (1.0.2)\n",
      "Collecting docker<8,>=4.0.0\n",
      "  Using cached docker-7.1.0-py3-none-any.whl (147 kB)\n",
      "Collecting pyarrow<21,>=4.0.0\n",
      "  Using cached pyarrow-20.0.0-cp39-cp39-win_amd64.whl (25.8 MB)\n",
      "Collecting mlflow-skinny==3.1.4\n",
      "  Using cached mlflow_skinny-3.1.4-py3-none-any.whl (1.9 MB)\n",
      "Requirement already satisfied: Flask<4 in c:\\users\\admin\\anaconda3\\lib\\site-packages (from mlflow) (1.1.2)\n",
      "Collecting alembic!=1.10.0,<2\n",
      "  Using cached alembic-1.16.5-py3-none-any.whl (247 kB)\n",
      "Collecting opentelemetry-api<3,>=1.9.0\n",
      "  Using cached opentelemetry_api-1.38.0-py3-none-any.whl (65 kB)\n",
      "Collecting pydantic<3,>=1.10.8\n",
      "  Using cached pydantic-2.12.3-py3-none-any.whl (462 kB)\n",
      "Requirement already satisfied: pyyaml<7,>=5.1 in c:\\users\\admin\\anaconda3\\lib\\site-packages (from mlflow-skinny==3.1.4->mlflow) (6.0)\n",
      "Collecting uvicorn<1\n",
      "  Using cached uvicorn-0.38.0-py3-none-any.whl (68 kB)\n",
      "Requirement already satisfied: click<9,>=7.0 in c:\\users\\admin\\anaconda3\\lib\\site-packages (from mlflow-skinny==3.1.4->mlflow) (8.0.4)\n",
      "Requirement already satisfied: cachetools<7,>=5.0.0 in c:\\users\\admin\\anaconda3\\lib\\site-packages (from mlflow-skinny==3.1.4->mlflow) (5.5.2)\n",
      "Requirement already satisfied: importlib_metadata!=4.7.0,<9,>=3.7.0 in c:\\users\\admin\\anaconda3\\lib\\site-packages (from mlflow-skinny==3.1.4->mlflow) (4.11.3)\n",
      "Requirement already satisfied: typing-extensions<5,>=4.0.0 in c:\\users\\admin\\anaconda3\\lib\\site-packages (from mlflow-skinny==3.1.4->mlflow) (4.14.0)\n",
      "Collecting fastapi<1\n",
      "  Using cached fastapi-0.119.0-py3-none-any.whl (107 kB)\n",
      "Collecting opentelemetry-sdk<3,>=1.9.0\n",
      "  Using cached opentelemetry_sdk-1.38.0-py3-none-any.whl (132 kB)\n",
      "Requirement already satisfied: cloudpickle<4 in c:\\users\\admin\\anaconda3\\lib\\site-packages (from mlflow-skinny==3.1.4->mlflow) (2.0.0)\n",
      "Requirement already satisfied: requests<3,>=2.17.3 in c:\\users\\admin\\anaconda3\\lib\\site-packages (from mlflow-skinny==3.1.4->mlflow) (2.28.1)\n",
      "Requirement already satisfied: packaging<26 in c:\\users\\admin\\anaconda3\\lib\\site-packages (from mlflow-skinny==3.1.4->mlflow) (21.3)\n",
      "Requirement already satisfied: sqlparse<1,>=0.4.0 in c:\\users\\admin\\anaconda3\\lib\\site-packages (from mlflow-skinny==3.1.4->mlflow) (0.4.4)\n",
      "Collecting databricks-sdk<1,>=0.20.0\n",
      "  Using cached databricks_sdk-0.68.0-py3-none-any.whl (738 kB)\n",
      "Requirement already satisfied: protobuf<7,>=3.12.0 in c:\\users\\admin\\anaconda3\\lib\\site-packages (from mlflow-skinny==3.1.4->mlflow) (3.19.6)\n",
      "Collecting gitpython<4,>=3.1.9\n",
      "  Using cached gitpython-3.1.45-py3-none-any.whl (208 kB)\n",
      "Collecting Mako\n",
      "  Using cached mako-1.3.10-py3-none-any.whl (78 kB)\n",
      "Requirement already satisfied: tomli in c:\\users\\admin\\anaconda3\\lib\\site-packages (from alembic!=1.10.0,<2->mlflow) (2.0.1)\n",
      "Requirement already satisfied: urllib3>=1.26.0 in c:\\users\\admin\\anaconda3\\lib\\site-packages (from docker<8,>=4.0.0->mlflow) (1.26.11)\n",
      "Collecting pywin32>=304\n",
      "  Using cached pywin32-311-cp39-cp39-win_amd64.whl (9.6 MB)\n",
      "Requirement already satisfied: Jinja2>=2.10.1 in c:\\users\\admin\\anaconda3\\lib\\site-packages (from Flask<4->mlflow) (2.11.3)\n",
      "Requirement already satisfied: itsdangerous>=0.24 in c:\\users\\admin\\anaconda3\\lib\\site-packages (from Flask<4->mlflow) (2.0.1)\n",
      "Requirement already satisfied: Werkzeug>=0.15 in c:\\users\\admin\\anaconda3\\lib\\site-packages (from Flask<4->mlflow) (2.0.3)\n",
      "Collecting graphql-core<3.3,>=3.1\n",
      "  Using cached graphql_core-3.2.6-py3-none-any.whl (203 kB)\n",
      "Collecting graphql-relay<3.3,>=3.1\n",
      "  Using cached graphql_relay-3.2.0-py3-none-any.whl (16 kB)\n",
      "Requirement already satisfied: python-dateutil<3,>=2.7.0 in c:\\users\\admin\\anaconda3\\lib\\site-packages (from graphene<4->mlflow) (2.8.2)\n",
      "Requirement already satisfied: pillow>=6.2.0 in c:\\users\\admin\\anaconda3\\lib\\site-packages (from matplotlib<4->mlflow) (9.2.0)\n",
      "Requirement already satisfied: pyparsing>=2.2.1 in c:\\users\\admin\\anaconda3\\lib\\site-packages (from matplotlib<4->mlflow) (3.0.9)\n",
      "Requirement already satisfied: kiwisolver>=1.0.1 in c:\\users\\admin\\anaconda3\\lib\\site-packages (from matplotlib<4->mlflow) (1.4.2)\n",
      "Requirement already satisfied: fonttools>=4.22.0 in c:\\users\\admin\\anaconda3\\lib\\site-packages (from matplotlib<4->mlflow) (4.25.0)\n",
      "Requirement already satisfied: cycler>=0.10 in c:\\users\\admin\\anaconda3\\lib\\site-packages (from matplotlib<4->mlflow) (0.11.0)\n",
      "Requirement already satisfied: pytz>=2020.1 in c:\\users\\admin\\anaconda3\\lib\\site-packages (from pandas<3->mlflow) (2022.1)\n",
      "Requirement already satisfied: joblib>=0.11 in c:\\users\\admin\\anaconda3\\lib\\site-packages (from scikit-learn<2->mlflow) (1.1.0)\n",
      "Requirement already satisfied: threadpoolctl>=2.0.0 in c:\\users\\admin\\anaconda3\\lib\\site-packages (from scikit-learn<2->mlflow) (2.2.0)\n",
      "Requirement already satisfied: greenlet!=0.4.17 in c:\\users\\admin\\anaconda3\\lib\\site-packages (from sqlalchemy<3,>=1.4.0->mlflow) (1.1.1)\n",
      "Requirement already satisfied: colorama in c:\\users\\admin\\anaconda3\\lib\\site-packages (from click<9,>=7.0->mlflow-skinny==3.1.4->mlflow) (0.4.6)\n",
      "Collecting protobuf<7,>=3.12.0\n",
      "  Using cached protobuf-6.33.0-cp39-cp39-win_amd64.whl (436 kB)\n",
      "Requirement already satisfied: google-auth~=2.0 in c:\\users\\admin\\anaconda3\\lib\\site-packages (from databricks-sdk<1,>=0.20.0->mlflow-skinny==3.1.4->mlflow) (2.38.0)\n",
      "Collecting starlette<0.49.0,>=0.40.0\n",
      "  Using cached starlette-0.48.0-py3-none-any.whl (73 kB)\n",
      "Collecting gitdb<5,>=4.0.1\n",
      "  Using cached gitdb-4.0.12-py3-none-any.whl (62 kB)\n",
      "Requirement already satisfied: zipp>=0.5 in c:\\users\\admin\\anaconda3\\lib\\site-packages (from importlib_metadata!=4.7.0,<9,>=3.7.0->mlflow-skinny==3.1.4->mlflow) (3.8.0)\n",
      "Requirement already satisfied: MarkupSafe>=0.23 in c:\\users\\admin\\anaconda3\\lib\\site-packages (from Jinja2>=2.10.1->Flask<4->mlflow) (2.0.1)\n",
      "Collecting importlib_metadata!=4.7.0,<9,>=3.7.0\n",
      "  Using cached importlib_metadata-8.7.0-py3-none-any.whl (27 kB)\n",
      "Collecting zipp>=0.5\n",
      "  Using cached zipp-3.23.0-py3-none-any.whl (10 kB)\n",
      "Collecting opentelemetry-semantic-conventions==0.59b0\n",
      "  Using cached opentelemetry_semantic_conventions-0.59b0-py3-none-any.whl (207 kB)\n",
      "Collecting typing-inspection>=0.4.2\n",
      "  Using cached typing_inspection-0.4.2-py3-none-any.whl (14 kB)\n",
      "Collecting typing-extensions<5,>=4.0.0\n",
      "  Using cached typing_extensions-4.15.0-py3-none-any.whl (44 kB)\n",
      "Collecting annotated-types>=0.6.0\n",
      "  Using cached annotated_types-0.7.0-py3-none-any.whl (13 kB)\n",
      "Collecting pydantic-core==2.41.4\n",
      "  Using cached pydantic_core-2.41.4-cp39-cp39-win_amd64.whl (2.0 MB)\n",
      "Requirement already satisfied: six>=1.5 in c:\\users\\admin\\anaconda3\\lib\\site-packages (from python-dateutil<3,>=2.7.0->graphene<4->mlflow) (1.16.0)\n",
      "Requirement already satisfied: charset-normalizer<3,>=2 in c:\\users\\admin\\anaconda3\\lib\\site-packages (from requests<3,>=2.17.3->mlflow-skinny==3.1.4->mlflow) (2.0.4)\n",
      "Requirement already satisfied: certifi>=2017.4.17 in c:\\users\\admin\\anaconda3\\lib\\site-packages (from requests<3,>=2.17.3->mlflow-skinny==3.1.4->mlflow) (2025.4.26)\n",
      "Requirement already satisfied: idna<4,>=2.5 in c:\\users\\admin\\anaconda3\\lib\\site-packages (from requests<3,>=2.17.3->mlflow-skinny==3.1.4->mlflow) (3.3)\n",
      "Collecting h11>=0.8\n",
      "  Using cached h11-0.16.0-py3-none-any.whl (37 kB)\n",
      "Collecting smmap<6,>=3.0.1\n",
      "  Using cached smmap-5.0.2-py3-none-any.whl (24 kB)\n",
      "Requirement already satisfied: pyasn1-modules>=0.2.1 in c:\\users\\admin\\anaconda3\\lib\\site-packages (from google-auth~=2.0->databricks-sdk<1,>=0.20.0->mlflow-skinny==3.1.4->mlflow) (0.2.8)\n",
      "Requirement already satisfied: rsa<5,>=3.1.4 in c:\\users\\admin\\anaconda3\\lib\\site-packages (from google-auth~=2.0->databricks-sdk<1,>=0.20.0->mlflow-skinny==3.1.4->mlflow) (4.9)\n",
      "Collecting anyio<5,>=3.6.2\n",
      "  Using cached anyio-4.11.0-py3-none-any.whl (109 kB)\n",
      "Collecting exceptiongroup>=1.0.2\n",
      "  Using cached exceptiongroup-1.3.0-py3-none-any.whl (16 kB)\n",
      "Requirement already satisfied: sniffio>=1.1 in c:\\users\\admin\\anaconda3\\lib\\site-packages (from anyio<5,>=3.6.2->starlette<0.49.0,>=0.40.0->fastapi<1->mlflow-skinny==3.1.4->mlflow) (1.2.0)\n",
      "Requirement already satisfied: pyasn1<0.5.0,>=0.4.6 in c:\\users\\admin\\anaconda3\\lib\\site-packages (from pyasn1-modules>=0.2.1->google-auth~=2.0->databricks-sdk<1,>=0.20.0->mlflow-skinny==3.1.4->mlflow) (0.4.8)\n",
      "Installing collected packages: pywin32, zipp, waitress, typing-extensions, smmap, pyarrow, protobuf, Mako, h11, annotated-types, uvicorn, typing-inspection, pydantic-core, importlib_metadata, graphql-core, gitdb, exceptiongroup, docker, alembic, pydantic, opentelemetry-api, graphql-relay, gitpython, databricks-sdk, anyio, starlette, opentelemetry-semantic-conventions, graphene, opentelemetry-sdk, fastapi, mlflow-skinny, mlflow\n",
      "  Attempting uninstall: pywin32\n",
      "    Found existing installation: pywin32 302\n",
      "    Uninstalling pywin32-302:\n",
      "      Successfully uninstalled pywin32-302\n",
      "  Rolling back uninstall of pywin32\n",
      "  Moving to c:\\users\\admin\\anaconda3\\lib\\site-packages\\__pycache__\\pythoncom.cpython-39.pyc\n",
      "   from C:\\Users\\Admin\\AppData\\Local\\Temp\\pip-uninstall-rnpubssn\\pythoncom.cpython-39.pyc\n",
      "  Moving to c:\\users\\admin\\anaconda3\\lib\\site-packages\\adodbapi\n",
      "   from C:\\Users\\Admin\\anaconda3\\Lib\\site-packages\\~dodbapi\n",
      "  Moving to c:\\users\\admin\\anaconda3\\lib\\site-packages\\isapi\n",
      "   from C:\\Users\\Admin\\anaconda3\\Lib\\site-packages\\~sapi\n",
      "  Moving to c:\\users\\admin\\anaconda3\\lib\\site-packages\\pythoncom.py\n",
      "   from C:\\Users\\Admin\\AppData\\Local\\Temp\\pip-uninstall-yw_i9esx\\pythoncom.py\n",
      "  Moving to c:\\users\\admin\\anaconda3\\lib\\site-packages\\pythonwin\n",
      "   from C:\\Users\\Admin\\anaconda3\\Lib\\site-packages\\~ythonwin\n",
      "  Moving to c:\\users\\admin\\anaconda3\\lib\\site-packages\\pywin32-302-py3.9.egg-info\n",
      "   from C:\\Users\\Admin\\anaconda3\\Lib\\site-packages\\~ywin32-302-py3.9.egg-info\n",
      "  Moving to c:\\users\\admin\\anaconda3\\lib\\site-packages\\win32\\lib\\\n",
      "   from C:\\Users\\Admin\\anaconda3\\Lib\\site-packages\\win32\\~ib\n",
      "  Moving to c:\\users\\admin\\anaconda3\\lib\\site-packages\\win32com\n",
      "   from C:\\Users\\Admin\\anaconda3\\Lib\\site-packages\\~in32com\n",
      "  Moving to c:\\users\\admin\\anaconda3\\lib\\site-packages\\win32comext\n",
      "   from C:\\Users\\Admin\\anaconda3\\Lib\\site-packages\\~in32comext\n"
     ]
    },
    {
     "name": "stderr",
     "output_type": "stream",
     "text": [
      "WARNING: Ignoring invalid distribution -umpy (c:\\users\\admin\\anaconda3\\lib\\site-packages)\n",
      "WARNING: Ignoring invalid distribution -umpy (c:\\users\\admin\\anaconda3\\lib\\site-packages)\n",
      "WARNING: Ignoring invalid distribution -umpy (c:\\users\\admin\\anaconda3\\lib\\site-packages)\n",
      "    WARNING: Ignoring invalid distribution -umpy (c:\\users\\admin\\anaconda3\\lib\\site-packages)\n",
      "ERROR: Could not install packages due to an OSError: [WinError 5] Access is denied: 'C:\\\\Users\\\\Admin\\\\anaconda3\\\\Lib\\\\site-packages\\\\win32\\\\_win32sysloader.pyd'\n",
      "Consider using the `--user` option or check the permissions.\n",
      "\n",
      "WARNING: Ignoring invalid distribution -umpy (c:\\users\\admin\\anaconda3\\lib\\site-packages)\n",
      "WARNING: Ignoring invalid distribution -umpy (c:\\users\\admin\\anaconda3\\lib\\site-packages)\n",
      "WARNING: Ignoring invalid distribution -umpy (c:\\users\\admin\\anaconda3\\lib\\site-packages)\n"
     ]
    }
   ],
   "source": [
    "!pip install mlflow"
   ]
  },
  {
   "cell_type": "code",
   "execution_count": 2,
   "id": "002182ed",
   "metadata": {},
   "outputs": [
    {
     "name": "stderr",
     "output_type": "stream",
     "text": [
      "WARNING: Ignoring invalid distribution -umpy (c:\\users\\admin\\anaconda3\\lib\\site-packages)\n",
      "WARNING: Package(s) not found: mlflow\n"
     ]
    }
   ],
   "source": [
    "!pip show mlflow\n"
   ]
  },
  {
   "cell_type": "code",
   "execution_count": 3,
   "id": "56c07df1",
   "metadata": {},
   "outputs": [
    {
     "ename": "ModuleNotFoundError",
     "evalue": "No module named 'mlflow'",
     "output_type": "error",
     "traceback": [
      "\u001b[1;31m---------------------------------------------------------------------------\u001b[0m",
      "\u001b[1;31mModuleNotFoundError\u001b[0m                       Traceback (most recent call last)",
      "\u001b[1;32m~\\AppData\\Local\\Temp\\ipykernel_11320\\3047255242.py\u001b[0m in \u001b[0;36m<module>\u001b[1;34m\u001b[0m\n\u001b[0;32m      2\u001b[0m \u001b[1;32mfrom\u001b[0m \u001b[0mtensorflow\u001b[0m \u001b[1;32mimport\u001b[0m \u001b[0mkeras\u001b[0m\u001b[1;33m\u001b[0m\u001b[1;33m\u001b[0m\u001b[0m\n\u001b[0;32m      3\u001b[0m \u001b[1;32mimport\u001b[0m \u001b[0mnumpy\u001b[0m \u001b[1;32mas\u001b[0m \u001b[0mnp\u001b[0m\u001b[1;33m\u001b[0m\u001b[1;33m\u001b[0m\u001b[0m\n\u001b[1;32m----> 4\u001b[1;33m \u001b[1;32mimport\u001b[0m \u001b[0mmlflow\u001b[0m\u001b[1;33m\u001b[0m\u001b[1;33m\u001b[0m\u001b[0m\n\u001b[0m\u001b[0;32m      5\u001b[0m \u001b[1;32mimport\u001b[0m \u001b[0mmlflow\u001b[0m\u001b[1;33m.\u001b[0m\u001b[0mtensorflow\u001b[0m\u001b[1;33m\u001b[0m\u001b[1;33m\u001b[0m\u001b[0m\n",
      "\u001b[1;31mModuleNotFoundError\u001b[0m: No module named 'mlflow'"
     ]
    }
   ],
   "source": [
    "\n",
    "import tensorflow as tf\n",
    "from tensorflow import keras\n",
    "import numpy as np\n",
    "import mlflow\n",
    "import mlflow.tensorflow"
   ]
  },
  {
   "cell_type": "code",
   "execution_count": null,
   "id": "7bf5b5a2",
   "metadata": {},
   "outputs": [],
   "source": [
    "#Chargement du jeu de donn es MNIST\n",
    "(x_train, y_train), (x_test, y_test) = keras.datasets.mnist.load_data()"
   ]
  },
  {
   "cell_type": "code",
   "execution_count": null,
   "id": "623b936d",
   "metadata": {},
   "outputs": [],
   "source": []
  },
  {
   "cell_type": "code",
   "execution_count": null,
   "id": "b0c9fd9c",
   "metadata": {},
   "outputs": [],
   "source": [
    "x_train = x_train.astype(\"float32\") / 255.0\n",
    "x_test = x_test.astype(\"float32\") / 255.0"
   ]
  },
  {
   "cell_type": "code",
   "execution_count": null,
   "id": "f893e1b9",
   "metadata": {},
   "outputs": [],
   "source": [
    "x_train = x_train.reshape(60000, 784)\n",
    "x_test = x_test.reshape(10000, 784)"
   ]
  },
  {
   "cell_type": "code",
   "execution_count": null,
   "id": "8edb8979",
   "metadata": {},
   "outputs": [],
   "source": [
    "model = keras.Sequential([\n",
    "keras.layers.Dense(512, activation='relu', input_shape=(784,)),\n",
    "keras.layers.Dropout(0.2),\n",
    "keras.layers.Dense(10, activation='softmax')\n",
    "])"
   ]
  },
  {
   "cell_type": "code",
   "execution_count": null,
   "id": "21f6c4ae",
   "metadata": {},
   "outputs": [],
   "source": [
    "model.compile(\n",
    "optimizer='adam',\n",
    "loss='sparse_categorical_crossentropy',\n",
    "metrics=['accuracy'])"
   ]
  },
  {
   "cell_type": "code",
   "execution_count": null,
   "id": "74b9886e",
   "metadata": {},
   "outputs": [],
   "source": [
    "history = model.fit(\n",
    "  x_train,\n",
    "  y_train,\n",
    "  epochs=5,\n",
    "  batch_size=128,\n",
    "  validation_split=0.1\n",
    ")"
   ]
  },
  {
   "cell_type": "code",
   "execution_count": null,
   "id": "b99ce45e",
   "metadata": {},
   "outputs": [],
   "source": [
    "test_loss, test_acc = model.evaluate(x_test, y_test)\n",
    "print(f\"Pr cision sur les donnees de test: {test_acc:.4f}\")"
   ]
  },
  {
   "cell_type": "code",
   "execution_count": null,
   "id": "64da4d94",
   "metadata": {},
   "outputs": [],
   "source": [
    "\n",
    "#Sauvegarde du modele\n",
    "model.save(\"mnist_model_t.h5\")\n",
    "print(\" Mod le sauvegard sous mnist_model_t.h5\")"
   ]
  },
  {
   "cell_type": "markdown",
   "id": "8b7ae567",
   "metadata": {},
   "source": [
    "### UTILITE DES COUCHES DENSE ET DROPOUT\n",
    "##### Dense\n",
    "Chaque neurone est relie a tous les neurones de la couche precedente, elle permet de prendre la decision finale\n",
    "##### Dropout\n",
    "elle sert a la regularisation pour eviter le surapprentissage"
   ]
  },
  {
   "cell_type": "markdown",
   "id": "fb48294b",
   "metadata": {},
   "source": [
    "# Adam amelioration du SGD simple\n",
    "adam combine deux optimisations majeur :\n",
    "- le momentum\n",
    "- le RMSProp\n",
    "il adapte automatiquement la vitesse de chaque parametre et garde la direction moyenne du gradient, donc il adapte automatiquement le learning rate de chaque poid, alors qu'avec le SGD si le learning rate etait trop grand l'entrainement sautait autour du minimum et n'arrivais jamais a converger.chaque neurone etait mis a jour avec la meme intensitememe si certains convergent plus vite que d'autres"
   ]
  },
  {
   "cell_type": "markdown",
   "id": "b4d4bdfa",
   "metadata": {},
   "source": [
    "# Les concepts de \"vectorisation\" et de \"calculs par lots\"\n",
    "\n",
    "#### Vectorisation\n",
    "chaque image est transformee en vecteur de talle 784, toutes les images sont regroupees dans une grande matrice\n",
    "\n",
    "#### Calculs par lot\n",
    "c'est lorsqu'on utilise le batch_size\n",
    "batch_size=128\n"
   ]
  },
  {
   "cell_type": "code",
   "execution_count": null,
   "id": "561e9496",
   "metadata": {},
   "outputs": [],
   "source": []
  }
 ],
 "metadata": {
  "kernelspec": {
   "display_name": "Python 3 (ipykernel)",
   "language": "python",
   "name": "python3"
  },
  "language_info": {
   "codemirror_mode": {
    "name": "ipython",
    "version": 3
   },
   "file_extension": ".py",
   "mimetype": "text/x-python",
   "name": "python",
   "nbconvert_exporter": "python",
   "pygments_lexer": "ipython3",
   "version": "3.9.13"
  }
 },
 "nbformat": 4,
 "nbformat_minor": 5
}
